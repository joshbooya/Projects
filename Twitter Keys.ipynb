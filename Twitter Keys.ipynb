{
 "cells": [
  {
   "cell_type": "code",
   "execution_count": null,
   "metadata": {
    "collapsed": true
   },
   "outputs": [],
   "source": [
    "consumer_key = \"oHxUu6PpGVrXi4BYprg01acJA\"\n",
    "consumer_secret = \"fJUaDMAs00v1dYMOxZTfL1KNfDP7lMwrNZO2MvjtEjG70jSI98\"\n",
    "access_token = \"46282375-hL00umBEQWySD97FQ2sPgQMIMcTJiBObsytb7p7sd\"\n",
    "access_token_secret = \"c3rZM2MgH0cmizVSZjrbBdhfjwIeLRO1AT4YXi1KNX4cW\""
   ]
  }
 ],
 "metadata": {
  "kernelspec": {
   "display_name": "Python 3",
   "language": "python",
   "name": "python3"
  },
  "language_info": {
   "codemirror_mode": {
    "name": "ipython",
    "version": 3
   },
   "file_extension": ".py",
   "mimetype": "text/x-python",
   "name": "python",
   "nbconvert_exporter": "python",
   "pygments_lexer": "ipython3",
   "version": "3.6.2"
  }
 },
 "nbformat": 4,
 "nbformat_minor": 2
}
