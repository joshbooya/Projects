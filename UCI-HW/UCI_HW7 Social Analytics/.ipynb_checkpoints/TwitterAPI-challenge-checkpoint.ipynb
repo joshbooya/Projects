{
 "cells": [
  {
   "cell_type": "markdown",
   "metadata": {},
   "source": [
    "# News Mood"
   ]
  },
  {
   "cell_type": "markdown",
   "metadata": {},
   "source": [
    "### Top 3 Findings\n",
    "1. From the bar chart, CNN & NY Times have negative sentiment analysis where as BBC, CBS & FoxNews trend positively.\n",
    "2. From the scatter plot, CBS & CNN appear to deviate the furthest from the polarity of 0.\n",
    "3. From the scatter plot, both CBS and BBC appear to go as negative as -0.6 polarity. However, the other three news medias (FoxNews, NY Times, CNN) are more willing to come as negative with a -1.0 polarity. \n",
    "4. From the scatter plot, the three news medias (FoxNews, NY Times, CNN) tend to go as positive as 0.8 polarity but nothing further. \n",
    "\n"
   ]
  },
  {
   "cell_type": "code",
   "execution_count": 1,
   "metadata": {
    "collapsed": true
   },
   "outputs": [],
   "source": [
    "# Dependencies\n",
    "import numpy as np\n",
    "import pandas as pd\n",
    "import matplotlib.pyplot as plt\n",
    "import json\n",
    "import tweepy\n",
    "import time\n",
    "import seaborn as sns\n",
    "\n",
    "# Initialize Sentiment Analyzer\n",
    "from vaderSentiment.vaderSentiment import SentimentIntensityAnalyzer\n",
    "analyzer = SentimentIntensityAnalyzer()\n",
    "\n",
    "# Twitter API Keys\n",
    "consumer_key = \"oHxUu6PpGVrXi4BYprg01acJA\"\n",
    "consumer_secret = \"fJUaDMAs00v1dYMOxZTfL1KNfDP7lMwrNZO2MvjtEjG70jSI98\"\n",
    "access_token = \"46282375-hL00umBEQWySD97FQ2sPgQMIMcTJiBObsytb7p7sd\"\n",
    "access_token_secret = \"c3rZM2MgH0cmizVSZjrbBdhfjwIeLRO1AT4YXi1KNX4cW\"\n",
    "\n",
    "# Setup Tweepy API Authentication\n",
    "auth = tweepy.OAuthHandler(consumer_key, consumer_secret)\n",
    "auth.set_access_token(access_token, access_token_secret)\n",
    "api = tweepy.API(auth, parser=tweepy.parsers.JSONParser())"
   ]
  },
  {
   "cell_type": "code",
   "execution_count": 2,
   "metadata": {
    "collapsed": true,
    "scrolled": false
   },
   "outputs": [],
   "source": [
    "# Target User Account\n",
    "target_users = [\"@BBC\", \"@CBS\", \"@CNN\", \"@FoxNews\", \"@nytimes\"]\n",
    "\n",
    "# Number of pages pulled \n",
    "sentiments_DF = pd.DataFrame()\n",
    "sentiments_dict = {}\n",
    "sentiments_means = {}\n",
    "for target_user in target_users:\n",
    "    \n",
    "    # Variables for holding sentiments\n",
    "    compound_list = []\n",
    "    positive_list = []\n",
    "    negative_list = []\n",
    "    neutral_list = []\n",
    "    sentiments = []\n",
    "    sentiments_mean = []\n",
    "    pages = 5\n",
    "    i=1\n",
    "\n",
    "    # Counter\n",
    "    counter = 1\n",
    "    \n",
    "    # Loop through 5 pages of tweets (total 100 tweets)\n",
    "    for x in range(1,pages+1):\n",
    "\n",
    "        # Get all tweets from home feed\n",
    "        public_tweets = api.user_timeline(target_user, page = x)\n",
    "\n",
    "        # Loop through all tweets\n",
    "        for tweet in public_tweets:\n",
    "            # Run Vader Analysis on each tweet\n",
    "            compound = analyzer.polarity_scores(tweet[\"text\"])[\"compound\"]\n",
    "            pos = analyzer.polarity_scores(tweet[\"text\"])[\"pos\"]\n",
    "            neu = analyzer.polarity_scores(tweet[\"text\"])[\"neu\"]\n",
    "            neg = analyzer.polarity_scores(tweet[\"text\"])[\"neg\"]\n",
    "            tweets_ago = counter\n",
    "            \n",
    "            # Add each value to the appropriate list\n",
    "            compound_list.append(compound)\n",
    "            positive_list.append(pos)\n",
    "            negative_list.append(neg)\n",
    "            neutral_list.append(neu)\n",
    "\n",
    "            # Add sentiments for each tweet into an array\n",
    "            sentiments.append({\"Account\":target_user,\n",
    "                               \"Text\": tweet[\"text\"],\n",
    "                               \"Date\": tweet[\"created_at\"], \n",
    "                               \"Compound\": compound,\n",
    "                               \"Positive\": pos,\n",
    "                               \"Negative\": neu,\n",
    "                               \"Neutral\": neg,\n",
    "                               \"Tweets Ago\": tweets_ago})\n",
    "\n",
    "            # Add to counter \n",
    "            counter = counter + 1\n",
    "    sentiments_mean.append({\"Account\":target_user,\n",
    "                            \"Mean Compound\":np.mean(compound_list)})\n",
    "\n",
    "    sentiments_dict[target_user] = pd.DataFrame.from_dict(sentiments)\n",
    "    sentiments_dict[target_user]\n",
    "    sentiments_means[target_user] = pd.DataFrame.from_dict(sentiments_mean)\n",
    "    sentiments_means[target_user]\n",
    "    \n",
    "    i += 1\n",
    "    # Counter resets\n",
    "    counter = 1"
   ]
  },
  {
   "cell_type": "code",
   "execution_count": 3,
   "metadata": {
    "scrolled": true
   },
   "outputs": [
    {
     "data": {
      "text/html": [
       "<div>\n",
       "<style>\n",
       "    .dataframe thead tr:only-child th {\n",
       "        text-align: right;\n",
       "    }\n",
       "\n",
       "    .dataframe thead th {\n",
       "        text-align: left;\n",
       "    }\n",
       "\n",
       "    .dataframe tbody tr th {\n",
       "        vertical-align: top;\n",
       "    }\n",
       "</style>\n",
       "<table border=\"1\" class=\"dataframe\">\n",
       "  <thead>\n",
       "    <tr style=\"text-align: right;\">\n",
       "      <th></th>\n",
       "      <th>Account</th>\n",
       "      <th>Mean Compound</th>\n",
       "    </tr>\n",
       "  </thead>\n",
       "  <tbody>\n",
       "    <tr>\n",
       "      <th>0</th>\n",
       "      <td>@BBC</td>\n",
       "      <td>0.194834</td>\n",
       "    </tr>\n",
       "    <tr>\n",
       "      <th>1</th>\n",
       "      <td>@CBS</td>\n",
       "      <td>0.367527</td>\n",
       "    </tr>\n",
       "    <tr>\n",
       "      <th>2</th>\n",
       "      <td>@CNN</td>\n",
       "      <td>-0.081853</td>\n",
       "    </tr>\n",
       "    <tr>\n",
       "      <th>3</th>\n",
       "      <td>@FoxNews</td>\n",
       "      <td>0.026522</td>\n",
       "    </tr>\n",
       "    <tr>\n",
       "      <th>4</th>\n",
       "      <td>@nytimes</td>\n",
       "      <td>-0.065368</td>\n",
       "    </tr>\n",
       "  </tbody>\n",
       "</table>\n",
       "</div>"
      ],
      "text/plain": [
       "    Account  Mean Compound\n",
       "0      @BBC       0.194834\n",
       "1      @CBS       0.367527\n",
       "2      @CNN      -0.081853\n",
       "3  @FoxNews       0.026522\n",
       "4  @nytimes      -0.065368"
      ]
     },
     "execution_count": 3,
     "metadata": {},
     "output_type": "execute_result"
    }
   ],
   "source": [
    "mean_DF = pd.concat(sentiments_means,join_axes=None, ignore_index=True,keys=None, levels=None, names=None, verify_integrity=False)\n",
    "mean_DF"
   ]
  },
  {
   "cell_type": "code",
   "execution_count": 4,
   "metadata": {},
   "outputs": [
    {
     "data": {
      "text/html": [
       "<div>\n",
       "<style>\n",
       "    .dataframe thead tr:only-child th {\n",
       "        text-align: right;\n",
       "    }\n",
       "\n",
       "    .dataframe thead th {\n",
       "        text-align: left;\n",
       "    }\n",
       "\n",
       "    .dataframe tbody tr th {\n",
       "        vertical-align: top;\n",
       "    }\n",
       "</style>\n",
       "<table border=\"1\" class=\"dataframe\">\n",
       "  <thead>\n",
       "    <tr style=\"text-align: right;\">\n",
       "      <th></th>\n",
       "      <th>Account</th>\n",
       "      <th>Compound</th>\n",
       "      <th>Date</th>\n",
       "      <th>Negative</th>\n",
       "      <th>Neutral</th>\n",
       "      <th>Positive</th>\n",
       "      <th>Text</th>\n",
       "      <th>Tweets Ago</th>\n",
       "    </tr>\n",
       "  </thead>\n",
       "  <tbody>\n",
       "    <tr>\n",
       "      <th>0</th>\n",
       "      <td>@BBC</td>\n",
       "      <td>0.0000</td>\n",
       "      <td>Thu Dec 14 14:00:08 +0000 2017</td>\n",
       "      <td>1.000</td>\n",
       "      <td>0.0</td>\n",
       "      <td>0.000</td>\n",
       "      <td>🎞🎵🎨 Gospel singer and civil rights activist @M...</td>\n",
       "      <td>1</td>\n",
       "    </tr>\n",
       "    <tr>\n",
       "      <th>1</th>\n",
       "      <td>@BBC</td>\n",
       "      <td>0.0000</td>\n",
       "      <td>Thu Dec 14 13:30:06 +0000 2017</td>\n",
       "      <td>1.000</td>\n",
       "      <td>0.0</td>\n",
       "      <td>0.000</td>\n",
       "      <td>🎄 @LiamPayne, @ddlovato &amp;amp; @Camila_Cabello ...</td>\n",
       "      <td>2</td>\n",
       "    </tr>\n",
       "    <tr>\n",
       "      <th>2</th>\n",
       "      <td>@BBC</td>\n",
       "      <td>0.1027</td>\n",
       "      <td>Thu Dec 14 13:03:04 +0000 2017</td>\n",
       "      <td>0.935</td>\n",
       "      <td>0.0</td>\n",
       "      <td>0.065</td>\n",
       "      <td>❄️⛄️ How cold can it get at work before you ca...</td>\n",
       "      <td>3</td>\n",
       "    </tr>\n",
       "    <tr>\n",
       "      <th>3</th>\n",
       "      <td>@BBC</td>\n",
       "      <td>0.0000</td>\n",
       "      <td>Thu Dec 14 12:46:06 +0000 2017</td>\n",
       "      <td>1.000</td>\n",
       "      <td>0.0</td>\n",
       "      <td>0.000</td>\n",
       "      <td>RT @BBCNewsround: What do the @UKRobotWars hou...</td>\n",
       "      <td>4</td>\n",
       "    </tr>\n",
       "    <tr>\n",
       "      <th>4</th>\n",
       "      <td>@BBC</td>\n",
       "      <td>0.4215</td>\n",
       "      <td>Thu Dec 14 12:45:09 +0000 2017</td>\n",
       "      <td>0.859</td>\n",
       "      <td>0.0</td>\n",
       "      <td>0.141</td>\n",
       "      <td>RT @BBC6Music: What was your favourite album o...</td>\n",
       "      <td>5</td>\n",
       "    </tr>\n",
       "  </tbody>\n",
       "</table>\n",
       "</div>"
      ],
      "text/plain": [
       "  Account  Compound                            Date  Negative  Neutral  \\\n",
       "0    @BBC    0.0000  Thu Dec 14 14:00:08 +0000 2017     1.000      0.0   \n",
       "1    @BBC    0.0000  Thu Dec 14 13:30:06 +0000 2017     1.000      0.0   \n",
       "2    @BBC    0.1027  Thu Dec 14 13:03:04 +0000 2017     0.935      0.0   \n",
       "3    @BBC    0.0000  Thu Dec 14 12:46:06 +0000 2017     1.000      0.0   \n",
       "4    @BBC    0.4215  Thu Dec 14 12:45:09 +0000 2017     0.859      0.0   \n",
       "\n",
       "   Positive                                               Text  Tweets Ago  \n",
       "0     0.000  🎞🎵🎨 Gospel singer and civil rights activist @M...           1  \n",
       "1     0.000  🎄 @LiamPayne, @ddlovato &amp; @Camila_Cabello ...           2  \n",
       "2     0.065  ❄️⛄️ How cold can it get at work before you ca...           3  \n",
       "3     0.000  RT @BBCNewsround: What do the @UKRobotWars hou...           4  \n",
       "4     0.141  RT @BBC6Music: What was your favourite album o...           5  "
      ]
     },
     "execution_count": 4,
     "metadata": {},
     "output_type": "execute_result"
    }
   ],
   "source": [
    "sentiments_DF = pd.concat(sentiments_dict,join_axes=None, ignore_index=True,keys=None, levels=None, names=None, verify_integrity=False)\n",
    "sentiments_DF.head()"
   ]
  },
  {
   "cell_type": "code",
   "execution_count": 5,
   "metadata": {
    "collapsed": true
   },
   "outputs": [],
   "source": [
    "sentiments_DF.to_csv(\"News_Mood.csv\")"
   ]
  },
  {
   "cell_type": "code",
   "execution_count": 50,
   "metadata": {
    "scrolled": false
   },
   "outputs": [
    {
     "data": {
      "image/png": "[encoded data removed]",
      "text/plain": [
       "<matplotlib.figure.Figure at 0x1a164965f8>"
      ]
     },
     "metadata": {},
     "output_type": "display_data"
    }
   ],
   "source": [
    "# Create plot\n",
    "accounts = [\"BBC\", \"CBS\", \"CNN\", \"FoxNews\", \"NYTimes\"]\n",
    "colors = [\"red\", \"orange\", \"yellow\", \"green\", \"blue\"]\n",
    "ax = plt.subplot(111)\n",
    "y_pos = np.arange(len(accounts))\n",
    "\n",
    "for i, j in zip(target_users, colors):\n",
    "    ax.plot(sentiments_dict[i][\"Tweets Ago\"],\n",
    "            sentiments_dict[i][\"Compound\"], marker=\"o\", \n",
    "            color = j, linewidth = 0.5, linestyle = 'None',\n",
    "            alpha=0.8)\n",
    "        \n",
    "\n",
    "# # Incorporate the other graph properties\n",
    "plt.title(\"Sentiment Analysis of Media Tweets (%s)\" % (time.strftime(\"%x\")))\n",
    "plt.ylabel(\"Tweet Polarity\")\n",
    "plt.xlabel(\"Tweets Ago\")\n",
    "ax.legend(accounts, bbox_to_anchor=(0.85, 1.17),\n",
    "          ncol=5, fancybox=True, shadow=True)\n",
    "plt.ylim( ymin = -1, ymax = 1)\n",
    "figure = plt.gcf()\n",
    "figure.set_size_inches(10, 5)\n",
    "plt.savefig(\"polarity-scatter-plot.png\")\n",
    "plt.show()"
   ]
  },
  {
   "cell_type": "code",
   "execution_count": 52,
   "metadata": {},
   "outputs": [
    {
     "data": {
      "image/png": "[encoded data removed]",
      "text/plain": [
       "<matplotlib.figure.Figure at 0x1a166900f0>"
      ]
     },
     "metadata": {},
     "output_type": "display_data"
    }
   ],
   "source": [
    "y_pos = np.arange(len(accounts))\n",
    "performance = mean_DF[\"Mean Compound\"]\n",
    "\n",
    "plt.bar(y_pos, performance, align='edge', alpha=0.5, color = colors, width = 1)\n",
    "tick_locations = [value+0.4 for value in y_pos]\n",
    "plt.xticks(tick_locations, accounts)\n",
    "plt.title(\"Overall Media Sentiment based on Twitter (%s)\" % (time.strftime(\"%x\")))\n",
    "plt.ylabel(\"Tweet Polarity\")\n",
    "plt.xlabel(\"Accounts\")\n",
    "plt.hlines(0,0,5, alpha=0.75)\n",
    "figure = plt.gcf()\n",
    "figure.set_size_inches(10, 8)\n",
    "plt.savefig(\"polarity-bar-plot.png\")\n",
    "plt.show()\n"
   ]
  },
  {
   "cell_type": "code",
   "execution_count": null,
   "metadata": {
    "collapsed": true
   },
   "outputs": [],
   "source": []
  }
 ],
 "metadata": {
  "kernelspec": {
   "display_name": "Python 3",
   "language": "python",
   "name": "python3"
  },
  "language_info": {
   "codemirror_mode": {
    "name": "ipython",
    "version": 3
   },
   "file_extension": ".py",
   "mimetype": "text/x-python",
   "name": "python",
   "nbconvert_exporter": "python",
   "pygments_lexer": "ipython3",
   "version": "3.6.2"
  }
 },
 "nbformat": 4,
 "nbformat_minor": 2
}
