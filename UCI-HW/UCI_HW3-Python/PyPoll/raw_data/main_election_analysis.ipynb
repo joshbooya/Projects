{
 "cells": [
  {
   "cell_type": "code",
   "execution_count": 46,
   "metadata": {},
   "outputs": [
    {
     "name": "stdout",
     "output_type": "stream",
     "text": [
      "Election Results\n",
      "Khan: 63.00001050837531 (2218231) \n",
      "Correy: 19.999994319797125 (704200) \n",
      "Li: 13.999996023857989 (492940) \n",
      "O'Tooley: 2.999999147969569 (105630) \n",
      "Winner: Khan\n"
     ]
    }
   ],
   "source": [
    "import csv\n",
    "import os\n",
    "file = \"election_data_2.csv\"\n",
    "ballet = []\n",
    "candidates = []\n",
    "with open(file, 'r') as csvfile:\n",
    "    # Split the data on commas\n",
    "    csvreader = csv.reader(csvfile, delimiter=',')\n",
    "    next(csvreader)\n",
    "    votes = 0\n",
    "    for row in csvreader:\n",
    "        ballet.append(row[2])\n",
    "    votes = len(ballet)\n",
    "    # print(\"votes: \" + str(votes))\n",
    "    # print(type(candidates))\n",
    "    # loop function to find unique candidates\n",
    "    i = 0\n",
    "    for rows in ballet:\n",
    "        if  ballet[i] not in candidates: \n",
    "            candidates.append(ballet[i])\n",
    "        i += 1\n",
    "    # print(candidates)\n",
    "    n = 0\n",
    "    votes_per_candidate = []\n",
    "    percent_votes = []\n",
    "    max_ind = 0\n",
    "    for rows in range(len(candidates)):\n",
    "        votes_per_candidate.append(ballet.count(candidates[n]))\n",
    "        percent_votes.append((votes_per_candidate[n]/votes)*100) \n",
    "        n += 1\n",
    "    j = 0\n",
    "    for row in range(len(candidates)):\n",
    "        if percent_votes[j] > percent_votes[j+1]:\n",
    "            max_ind = j\n",
    "        elif percent_votes[j] < percent_votes[j+1]:\n",
    "            max_ind = j+1\n",
    "        else:\n",
    "            j += 1\n",
    "    \n",
    "    winner = []\n",
    "    winner = candidates[max_ind]\n",
    "    # print(j)\n",
    "    # % of votes\n",
    "    z = 0\n",
    "    print(\"Election Results\")\n",
    "    for row in range(len(candidates)):        \n",
    "        print(str(candidates[z]) + \": \" + str(percent_votes[z]) + \" (\" + str(votes_per_candidate[z]) + \") \")\n",
    "        z += 1\n",
    "    print(\"Winner: \" + winner)\n",
    "\n",
    "        \n",
    "        "
   ]
  },
  {
   "cell_type": "code",
   "execution_count": null,
   "metadata": {
    "collapsed": true
   },
   "outputs": [],
   "source": []
  }
 ],
 "metadata": {
  "kernelspec": {
   "display_name": "Python 3",
   "language": "python",
   "name": "python3"
  },
  "language_info": {
   "codemirror_mode": {
    "name": "ipython",
    "version": 3
   },
   "file_extension": ".py",
   "mimetype": "text/x-python",
   "name": "python",
   "nbconvert_exporter": "python",
   "pygments_lexer": "ipython3",
   "version": "3.6.2"
  }
 },
 "nbformat": 4,
 "nbformat_minor": 2
}
