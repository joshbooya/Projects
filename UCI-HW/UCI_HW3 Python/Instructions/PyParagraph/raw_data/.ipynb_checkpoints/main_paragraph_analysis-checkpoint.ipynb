{
 "cells": [
  {
   "cell_type": "code",
   "execution_count": 116,
   "metadata": {},
   "outputs": [
    {
     "name": "stdout",
     "output_type": "stream",
     "text": [
      "Paragraph Analysis (paragraph_1)\n",
      "Approximate Word Count: 130\n",
      "Approximate Sentence Count: 5\n",
      "Average Letter Count: 6.392307692307693\n",
      "Average Sentence Length: 191.2\n",
      "\n",
      "Paragraph Analysis (paragraph_2)\n",
      "Approximate Word Count: 276\n",
      "Approximate Sentence Count: 2\n",
      "Average Letter Count: 5.4855072463768115\n",
      "Average Sentence Length: 894.0\n"
     ]
    }
   ],
   "source": [
    "import re\n",
    "import os\n",
    "import re\n",
    "\n",
    "\n",
    "# Store the file path associated with the file (note the backslash may be OS specific) \n",
    "file1 = 'paragraph_1.txt'\n",
    "\n",
    "# Open the file in \"read\" mode ('r') and store the contents in the variable \"text\"\n",
    "with open(file1, 'r') as text1:\n",
    "    # this is the info <_io.TextIOWrapper name='paragraph_1.txt' mode='r' encoding='UTF-8'>\n",
    "    # print(text) \n",
    "\n",
    "    # Store all of the text inside a variable called \"lines\"\n",
    "    lines1 = text1.read()\n",
    "\n",
    "    # Print the contents of the text file\n",
    "    # print(lines)\n",
    "    sentences1 = re.split(\"(?<=[.!?]) \", lines1)\n",
    "    sentence_count1 = len(sentences1)\n",
    "    words1 = re.split(\" \", lines1)\n",
    "    word_count1 = len(words1)\n",
    "    \n",
    "    #average letters per word\n",
    "    x1 = 0\n",
    "    for w1 in words1:\n",
    "        x1 += len(w1)\n",
    "    avg_letter1 = x1/word_count1\n",
    "    \n",
    "    #average words per sentences\n",
    "    y1 = 0\n",
    "    for z1 in sentences1:\n",
    "        y1 += len(z1)\n",
    "    avg_word1 = y1/sentence_count1\n",
    "    \n",
    "# Store the file path associated with the file (note the backslash may be OS specific) \n",
    "file2 = 'paragraph_2.txt'\n",
    "\n",
    "# Open the file in \"read\" mode ('r') and store the contents in the variable \"text\"\n",
    "with open(file2, 'r') as text2:\n",
    "    # this is the info <_io.TextIOWrapper name='paragraph_2.txt' mode='r' encoding='UTF-8'>\n",
    "    # print(text) \n",
    "\n",
    "    # Store all of the text inside a variable called \"lines\"\n",
    "    lines2 = text2.read()\n",
    "\n",
    "    # Print the contents of the text file\n",
    "    # print(lines)\n",
    "    sentences2 = re.split(\"(?<=[.!?]) \", lines2)\n",
    "    sentence_count2 = len(sentences2)\n",
    "    words2 = re.split(\" \", lines2)\n",
    "    word_count2 = len(words2)\n",
    "    \n",
    "    #average letters per word\n",
    "    x2 = 0\n",
    "    for w2 in words2:\n",
    "        x2 += len(w2)\n",
    "    avg_letter2 = x2/word_count2\n",
    "    \n",
    "    #average words per sentences\n",
    "    y2 = 0\n",
    "    for z2 in sentences2:\n",
    "        y2 += len(z2)\n",
    "    avg_word2 = y2/sentence_count2\n",
    "\n",
    "    # print(avg_word1)\n",
    "    # hint: re.split(\"(?&lt;=[.!?]) +\", text)\n",
    "    # (?<=\\.){2,}(?=[A-Z])\n",
    "    #print(len(avg_word2))\n",
    "print(\"Paragraph Analysis (paragraph_1)\" + '\\n' +\n",
    "        \"Approximate Word Count: \" + str(word_count1) + '\\n' +\n",
    "        \"Approximate Sentence Count: \" + str(sentence_count1) + '\\n' +\n",
    "        \"Average Letter Count: \" + str(avg_letter1) + '\\n' +\n",
    "        \"Average Sentence Length: \" + str(avg_word1) + '\\n' + '\\n' +\n",
    "        \"Paragraph Analysis (paragraph_2)\" + '\\n' +\n",
    "        \"Approximate Word Count: \" + str(word_count2) + '\\n' +\n",
    "        \"Approximate Sentence Count: \" + str(sentence_count2) + '\\n' +\n",
    "        \"Average Letter Count: \" + str(avg_letter2) + '\\n' +\n",
    "        \"Average Sentence Length: \" + str(avg_word2))"
   ]
  },
  {
   "cell_type": "code",
   "execution_count": null,
   "metadata": {
    "collapsed": true
   },
   "outputs": [],
   "source": []
  },
  {
   "cell_type": "code",
   "execution_count": null,
   "metadata": {
    "collapsed": true
   },
   "outputs": [],
   "source": []
  },
  {
   "cell_type": "code",
   "execution_count": null,
   "metadata": {
    "collapsed": true
   },
   "outputs": [],
   "source": []
  },
  {
   "cell_type": "code",
   "execution_count": null,
   "metadata": {
    "collapsed": true
   },
   "outputs": [],
   "source": []
  },
  {
   "cell_type": "code",
   "execution_count": null,
   "metadata": {
    "collapsed": true
   },
   "outputs": [],
   "source": []
  }
 ],
 "metadata": {
  "kernelspec": {
   "display_name": "Python 3",
   "language": "python",
   "name": "python3"
  },
  "language_info": {
   "codemirror_mode": {
    "name": "ipython",
    "version": 3
   },
   "file_extension": ".py",
   "mimetype": "text/x-python",
   "name": "python",
   "nbconvert_exporter": "python",
   "pygments_lexer": "ipython3",
   "version": "3.6.2"
  }
 },
 "nbformat": 4,
 "nbformat_minor": 2
}
